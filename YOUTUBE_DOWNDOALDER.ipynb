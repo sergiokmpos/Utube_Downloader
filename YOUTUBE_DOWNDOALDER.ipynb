{
  "cells": [
    {
      "cell_type": "markdown",
      "metadata": {
        "id": "view-in-github",
        "colab_type": "text"
      },
      "source": [
        "<a href=\"https://colab.research.google.com/github/sergiokmpos/Utube_Downloader/blob/main/YOUTUBE_DOWNDOALDER.ipynb\" target=\"_parent\"><img src=\"https://colab.research.google.com/assets/colab-badge.svg\" alt=\"Open In Colab\"/></a>"
      ]
    },
    {
      "cell_type": "markdown",
      "source": [],
      "metadata": {
        "id": "wAGExBUYkLtI"
      }
    },
    {
      "cell_type": "markdown",
      "metadata": {
        "id": "WtQ7OfhzgFlD"
      },
      "source": [
        "# CLICK NO PLAY E ENTRE COM O LINK DO VIDEO QUANDO SOLICITADO"
      ]
    },
    {
      "cell_type": "code",
      "execution_count": 6,
      "metadata": {
        "id": "O2GSk9FBhHYr",
        "colab": {
          "base_uri": "https://localhost:8080/"
        },
        "outputId": "97b00c7b-b94c-46de-e390-f8b5cf9c946c"
      },
      "outputs": [
        {
          "name": "stdout",
          "output_type": "stream",
          "text": [
            "https://www.youtube.com/watch?v=5CryJV9_Mho\n"
          ]
        }
      ],
      "source": [
        "link = input()"
      ]
    },
    {
      "cell_type": "markdown",
      "metadata": {
        "id": "1M-_ZdbYnNDI"
      },
      "source": [
        "# DOWNLOAD MP4 - AUDIO"
      ]
    },
    {
      "cell_type": "code",
      "source": [
        "pip install pytube"
      ],
      "metadata": {
        "colab": {
          "base_uri": "https://localhost:8080/"
        },
        "id": "Tf2WoZ9ghAlS",
        "outputId": "3466cc8c-5e13-4e02-a38b-10236d3befa5"
      },
      "execution_count": 7,
      "outputs": [
        {
          "output_type": "stream",
          "name": "stdout",
          "text": [
            "Looking in indexes: https://pypi.org/simple, https://us-python.pkg.dev/colab-wheels/public/simple/\n",
            "Requirement already satisfied: pytube in /usr/local/lib/python3.8/dist-packages (12.1.2)\n"
          ]
        }
      ]
    },
    {
      "cell_type": "code",
      "execution_count": 8,
      "metadata": {
        "id": "FKJm7uS4MwYI"
      },
      "outputs": [],
      "source": [
        "from pytube import YouTube"
      ]
    },
    {
      "cell_type": "code",
      "execution_count": 9,
      "metadata": {
        "colab": {
          "base_uri": "https://localhost:8080/",
          "height": 0
        },
        "id": "VladPWorhLSC",
        "outputId": "ec848de7-0070-4f57-e456-08fe0aee8b45"
      },
      "outputs": [
        {
          "output_type": "execute_result",
          "data": {
            "text/plain": [
              "'/content/VAN HALEN -  why cant this be love (1989 live).mp4'"
            ],
            "application/vnd.google.colaboratory.intrinsic+json": {
              "type": "string"
            }
          },
          "metadata": {},
          "execution_count": 9
        }
      ],
      "source": [
        "yt=YouTube(link)\n",
        "yt.streams.filter(only_audio=True).first().download()"
      ]
    },
    {
      "cell_type": "markdown",
      "metadata": {
        "id": "Uef2WFdIMvr3"
      },
      "source": [
        "# DOWNLOAD MP4 - VIDEO"
      ]
    },
    {
      "cell_type": "code",
      "source": [
        "pip install pytube"
      ],
      "metadata": {
        "id": "xA7U8_j2hE9i"
      },
      "execution_count": null,
      "outputs": []
    },
    {
      "cell_type": "code",
      "source": [
        "from pytube import YouTube"
      ],
      "metadata": {
        "id": "bFnhWIBchGsa"
      },
      "execution_count": null,
      "outputs": []
    },
    {
      "cell_type": "code",
      "source": [
        "yt.streams.filter(progressive=True, file_extension='mp4').order_by('resolution')[-1].download()"
      ],
      "metadata": {
        "id": "HWokKZAEMsCe"
      },
      "execution_count": null,
      "outputs": []
    }
  ],
  "metadata": {
    "colab": {
      "collapsed_sections": [
        "1M-_ZdbYnNDI",
        "Uef2WFdIMvr3"
      ],
      "provenance": [],
      "mount_file_id": "1a--zw1Kw5MFUDj6VTkRRQHtSHw0IqN-6",
      "authorship_tag": "ABX9TyMlGCRZmFWoZohZ1cMdqmPd",
      "include_colab_link": true
    },
    "kernelspec": {
      "display_name": "Python 3",
      "name": "python3"
    },
    "language_info": {
      "name": "python"
    }
  },
  "nbformat": 4,
  "nbformat_minor": 0
}