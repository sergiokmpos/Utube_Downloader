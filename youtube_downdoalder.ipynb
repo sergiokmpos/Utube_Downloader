{
  "cells": [
    {
      "cell_type": "markdown",
      "metadata": {
        "id": "view-in-github",
        "colab_type": "text"
      },
      "source": [
        "<a href=\"https://colab.research.google.com/github/sergiokmpos/Utube_Downloader/blob/main/youtube_downdoalder.ipynb\" target=\"_parent\"><img src=\"https://colab.research.google.com/assets/colab-badge.svg\" alt=\"Open In Colab\"/></a>"
      ]
    },
    {
      "cell_type": "markdown",
      "metadata": {
        "id": "WtQ7OfhzgFlD"
      },
      "source": [
        "# CLICK NO PLAY E ENTRE COM O LINK DO VIDEO QUANDO SOLICITADO"
      ]
    },
    {
      "cell_type": "code",
      "execution_count": null,
      "metadata": {
        "id": "O2GSk9FBhHYr"
      },
      "outputs": [],
      "source": [
        "link = input()"
      ]
    },
    {
      "cell_type": "markdown",
      "metadata": {
        "id": "1M-_ZdbYnNDI"
      },
      "source": [
        "# DOWNLOAD MP3"
      ]
    },
    {
      "cell_type": "code",
      "execution_count": null,
      "metadata": {
        "id": "FKJm7uS4MwYI"
      },
      "outputs": [],
      "source": [
        "from pytube import YouTube"
      ]
    },
    {
      "cell_type": "code",
      "execution_count": null,
      "metadata": {
        "colab": {
          "base_uri": "https://localhost:8080/",
          "height": 35
        },
        "id": "VladPWorhLSC",
        "outputId": "3bde6eeb-c219-4717-cdbb-db5c627c1b8f"
      },
      "outputs": [
        {
          "output_type": "execute_result",
          "data": {
            "text/plain": [
              "'/content/Sultans Of Swing (Dire Straits) - Full Cover.mp4'"
            ],
            "application/vnd.google.colaboratory.intrinsic+json": {
              "type": "string"
            }
          },
          "metadata": {},
          "execution_count": 24
        }
      ],
      "source": [
        "yt=YouTube(link)\n",
        "yt.streams.filter(only_audio=True).first().download()"
      ]
    },
    {
      "cell_type": "markdown",
      "metadata": {
        "id": "Uef2WFdIMvr3"
      },
      "source": [
        "# DOWNLOAD MP4 VIDEO"
      ]
    },
    {
      "cell_type": "code",
      "source": [
        "yt.streams.filter(progressive=True, file_extension='mp4').order_by('resolution')[-1].download()"
      ],
      "metadata": {
        "id": "HWokKZAEMsCe"
      },
      "execution_count": null,
      "outputs": []
    }
  ],
  "metadata": {
    "colab": {
      "collapsed_sections": [
        "1M-_ZdbYnNDI",
        "Uef2WFdIMvr3"
      ],
      "provenance": [],
      "mount_file_id": "1a--zw1Kw5MFUDj6VTkRRQHtSHw0IqN-6",
      "authorship_tag": "ABX9TyOJXUH5sgAirPl3XZXHxz5G",
      "include_colab_link": true
    },
    "kernelspec": {
      "display_name": "Python 3",
      "name": "python3"
    },
    "language_info": {
      "name": "python"
    }
  },
  "nbformat": 4,
  "nbformat_minor": 0
}